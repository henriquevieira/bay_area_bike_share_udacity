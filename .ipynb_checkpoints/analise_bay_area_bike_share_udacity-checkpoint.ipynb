{
 "cells": [
  {
   "cell_type": "code",
   "execution_count": 2,
   "metadata": {},
   "outputs": [],
   "source": [
    "# Analysis\n",
    "\n",
    "# 201309_trip_data.csv\n",
    "# 201309_trip_summary.csv\n",
    "# 201402_README.txt\n",
    "# 201402_station_data.csv\n",
    "# 201402_trip_data.csv\n",
    "# 201402_weather_data.csv\n",
    "# 201408_README.txt\n",
    "# 201408_station_data.csv\n",
    "# 201408_trip_data.csv\n",
    "# 201408_weather_data.csv\n",
    "# 201508_README.txt\n",
    "# 201508_station_data.csv\n",
    "# 201508_trip_data.csv\n",
    "# 201508_weather_data.csv"
   ]
  },
  {
   "cell_type": "code",
   "execution_count": 3,
   "metadata": {},
   "outputs": [],
   "source": [
    "# IMPORT PACKAGES\n",
    "import pandas as pd"
   ]
  },
  {
   "cell_type": "code",
   "execution_count": 18,
   "metadata": {},
   "outputs": [],
   "source": [
    "# READ DATA\n",
    "df_201402_station = pd.read_csv('ndfdsi-bikeshareanalysis/201402_station_data.csv')\n",
    "df_201402_trip = pd.read_csv('ndfdsi-bikeshareanalysis/201402_trip_data.csv')\n",
    "df_201402_weather = pd.read_csv('ndfdsi-bikeshareanalysis/201402_weather_data.csv')\n",
    "\n",
    "df_201408_station = pd.read_csv('ndfdsi-bikeshareanalysis/201408_station_data.csv')\n",
    "df_201408_trip = pd.read_csv('ndfdsi-bikeshareanalysis/201408_trip_data.csv')\n",
    "df_201408_weather = pd.read_csv('ndfdsi-bikeshareanalysis/201408_weather_data.csv')\n",
    "\n",
    "df_201508_station = pd.read_csv('ndfdsi-bikeshareanalysis/201508_station_data.csv')\n",
    "df_201508_trip = pd.read_csv('ndfdsi-bikeshareanalysis/201508_trip_data.csv')\n",
    "df_201508_weather = pd.read_csv('ndfdsi-bikeshareanalysis/201508_weather_data.csv')"
   ]
  },
  {
   "cell_type": "code",
   "execution_count": 19,
   "metadata": {},
   "outputs": [
    {
     "name": "stdout",
     "output_type": "stream",
     "text": [
      "(69, 7)\n",
      "(144015, 11)\n",
      "(920, 24)\n"
     ]
    }
   ],
   "source": [
    "# CHECK d201402 DATA SIZE\n",
    "print(df_201402_station.shape)\n",
    "print(df_201402_trip.shape)\n",
    "print(df_201402_weather.shape)"
   ]
  },
  {
   "cell_type": "code",
   "execution_count": 6,
   "metadata": {},
   "outputs": [
    {
     "name": "stdout",
     "output_type": "stream",
     "text": [
      "(70, 7)\n",
      "(171792, 11)\n",
      "(920, 24)\n"
     ]
    }
   ],
   "source": [
    "# CHECK d201408 DATA SIZE\n",
    "print(df_201408_station.shape)\n",
    "print(df_201408_trip.shape)\n",
    "print(df_201408_weather.shape)"
   ]
  },
  {
   "cell_type": "code",
   "execution_count": 7,
   "metadata": {},
   "outputs": [
    {
     "name": "stdout",
     "output_type": "stream",
     "text": [
      "(70, 7)\n",
      "(354152, 11)\n",
      "(1825, 24)\n"
     ]
    }
   ],
   "source": [
    "# CHECK d201508 DATA SIZE\n",
    "print(df_201508_station.shape)\n",
    "print(df_201508_trip.shape)\n",
    "print(df_201508_weather.shape)"
   ]
  },
  {
   "cell_type": "code",
   "execution_count": 20,
   "metadata": {},
   "outputs": [],
   "source": [
    "# CHANGE COLUMN\n",
    "df_201402_station.rename(columns=lambda x: x.strip().lower().replace(\" \", \"_\"), inplace=True)\n",
    "df_201402_trip.rename(columns=lambda x: x.strip().lower().replace(\" \", \"_\"), inplace=True)\n",
    "df_201402_weather.rename(columns=lambda x: x.strip().lower().replace(\" \", \"_\"), inplace=True)\n",
    "df_201408_station.rename(columns=lambda x: x.strip().lower().replace(\" \", \"_\"), inplace=True)\n",
    "df_201408_trip.rename(columns=lambda x: x.strip().lower().replace(\" \", \"_\"), inplace=True)\n",
    "df_201408_weather.rename(columns=lambda x: x.strip().lower().replace(\" \", \"_\"), inplace=True)\n",
    "df_201508_station.rename(columns=lambda x: x.strip().lower().replace(\" \", \"_\"), inplace=True)\n",
    "df_201508_trip.rename(columns=lambda x: x.strip().lower().replace(\" \", \"_\"), inplace=True)\n",
    "df_201508_weather.rename(columns=lambda x: x.strip().lower().replace(\" \", \"_\"), inplace=True)"
   ]
  },
  {
   "cell_type": "code",
   "execution_count": 55,
   "metadata": {},
   "outputs": [
    {
     "data": {
      "text/plain": [
       "True"
      ]
     },
     "execution_count": 55,
     "metadata": {},
     "output_type": "execute_result"
    }
   ],
   "source": [
    "df_201402_station.columns.tolist() == df_201408_station.columns.tolist() == df_201508_station.columns.tolist()"
   ]
  },
  {
   "cell_type": "code",
   "execution_count": 9,
   "metadata": {},
   "outputs": [
    {
     "data": {
      "text/plain": [
       "(209, 7)"
      ]
     },
     "execution_count": 9,
     "metadata": {},
     "output_type": "execute_result"
    }
   ],
   "source": [
    "# MERGE STATION DATA\n",
    "df_stations_data = [df_201402_station, df_201408_station, df_201508_station]\n",
    "df_station = pd.concat(df_stations_data)\n",
    "df_station.shape"
   ]
  },
  {
   "cell_type": "code",
   "execution_count": 10,
   "metadata": {},
   "outputs": [
    {
     "data": {
      "text/plain": [
       "133"
      ]
     },
     "execution_count": 10,
     "metadata": {},
     "output_type": "execute_result"
    }
   ],
   "source": [
    "# TOTAL DE DUPLICATAS\n",
    "sum(df_station.duplicated())"
   ]
  },
  {
   "cell_type": "code",
   "execution_count": 11,
   "metadata": {},
   "outputs": [],
   "source": [
    "# REMOVENDO AS DUPLICATAS\n",
    "df_station.drop_duplicates(inplace=True)"
   ]
  },
  {
   "cell_type": "code",
   "execution_count": 12,
   "metadata": {},
   "outputs": [
    {
     "data": {
      "text/plain": [
       "(76, 7)"
      ]
     },
     "execution_count": 12,
     "metadata": {},
     "output_type": "execute_result"
    }
   ],
   "source": [
    "df_station.shape"
   ]
  },
  {
   "cell_type": "code",
   "execution_count": 54,
   "metadata": {},
   "outputs": [
    {
     "data": {
      "text/plain": [
       "False"
      ]
     },
     "execution_count": 54,
     "metadata": {},
     "output_type": "execute_result"
    }
   ],
   "source": [
    "df_201402_trip.columns.tolist() == df_201408_trip.columns.tolist() == df_201508_trip.columns.tolist()"
   ]
  },
  {
   "cell_type": "code",
   "execution_count": 60,
   "metadata": {},
   "outputs": [
    {
     "name": "stdout",
     "output_type": "stream",
     "text": [
      "True - trip_id trip_id\n",
      "True - duration duration\n",
      "True - start_date start_date\n",
      "True - start_station start_station\n",
      "True - start_terminal start_terminal\n",
      "True - end_date end_date\n",
      "True - end_station end_station\n",
      "True - end_terminal end_terminal\n",
      "True - bike_# bike_#\n",
      "False - subscription_type subscriber_type\n",
      "True - zip_code zip_code\n",
      "Total False: 1\n"
     ]
    }
   ],
   "source": [
    "name_equal_trip_1 = []\n",
    "for i in range(df_201402_trip.shape[1]):\n",
    "    check = df_201402_trip.columns.tolist()[i] == df_201408_trip.columns.tolist()[i]\n",
    "    name_equal_trip_1.append(not check)\n",
    "    print(str(check) + \" - \" + df_201402_trip.columns.tolist()[i] +\" \"+ df_201408_trip.columns.tolist()[i])\n",
    "print(\"Total False: \"+str(sum(name_equal_trip_1)))"
   ]
  },
  {
   "cell_type": "code",
   "execution_count": 63,
   "metadata": {},
   "outputs": [
    {
     "name": "stdout",
     "output_type": "stream",
     "text": [
      "True - trip_id trip_id\n",
      "True - duration duration\n",
      "True - start_date start_date\n",
      "True - start_station start_station\n",
      "True - start_terminal start_terminal\n",
      "True - end_date end_date\n",
      "True - end_station end_station\n",
      "True - end_terminal end_terminal\n",
      "True - bike_# bike_#\n",
      "False - subscription_type subscriber_type\n",
      "True - zip_code zip_code\n",
      "Total False: 1\n"
     ]
    }
   ],
   "source": [
    "name_equal_trip_2 = []\n",
    "for i in range(df_201402_trip.shape[1]):\n",
    "    check = df_201402_trip.columns.tolist()[i] == df_201508_trip.columns.tolist()[i]\n",
    "    name_equal_trip_2.append(not check)\n",
    "    print(str(check) + \" - \" + df_201402_trip.columns.tolist()[i] +\" \"+ df_201508_trip.columns.tolist()[i])\n",
    "print(\"Total False: \"+str(sum(name_equal_trip_2)))"
   ]
  },
  {
   "cell_type": "code",
   "execution_count": 64,
   "metadata": {},
   "outputs": [
    {
     "data": {
      "text/plain": [
       "True"
      ]
     },
     "execution_count": 64,
     "metadata": {},
     "output_type": "execute_result"
    }
   ],
   "source": [
    "# CHECANDO SE SAO AS MESMAS COLUNAS COM NOMES DIFERENTES\n",
    "name_equal_trip_1 == name_equal_trip_2"
   ]
  },
  {
   "cell_type": "code",
   "execution_count": 69,
   "metadata": {},
   "outputs": [
    {
     "name": "stdout",
     "output_type": "stream",
     "text": [
      "True\n",
      "True\n"
     ]
    }
   ],
   "source": [
    "colnames = df_201402_trip.columns.tolist()\n",
    "df_201408_trip.columns = colnames\n",
    "df_201508_trip.columns = colnames\n",
    "print(df_201402_trip.columns.tolist() == df_201408_trip.columns.tolist())\n",
    "print(df_201402_trip.columns.tolist() == df_201508_trip.columns.tolist())"
   ]
  },
  {
   "cell_type": "code",
   "execution_count": 80,
   "metadata": {},
   "outputs": [
    {
     "name": "stdout",
     "output_type": "stream",
     "text": [
      "(669959, 11)\n"
     ]
    },
    {
     "data": {
      "text/html": [
       "<div>\n",
       "<style scoped>\n",
       "    .dataframe tbody tr th:only-of-type {\n",
       "        vertical-align: middle;\n",
       "    }\n",
       "\n",
       "    .dataframe tbody tr th {\n",
       "        vertical-align: top;\n",
       "    }\n",
       "\n",
       "    .dataframe thead th {\n",
       "        text-align: right;\n",
       "    }\n",
       "</style>\n",
       "<table border=\"1\" class=\"dataframe\">\n",
       "  <thead>\n",
       "    <tr style=\"text-align: right;\">\n",
       "      <th></th>\n",
       "      <th>trip_id</th>\n",
       "      <th>duration</th>\n",
       "      <th>start_date</th>\n",
       "      <th>start_station</th>\n",
       "      <th>start_terminal</th>\n",
       "      <th>end_date</th>\n",
       "      <th>end_station</th>\n",
       "      <th>end_terminal</th>\n",
       "      <th>bike_#</th>\n",
       "      <th>subscription_type</th>\n",
       "      <th>zip_code</th>\n",
       "    </tr>\n",
       "  </thead>\n",
       "  <tbody>\n",
       "    <tr>\n",
       "      <th>0</th>\n",
       "      <td>4576</td>\n",
       "      <td>63</td>\n",
       "      <td>8/29/2013 14:13</td>\n",
       "      <td>South Van Ness at Market</td>\n",
       "      <td>66</td>\n",
       "      <td>8/29/2013 14:14</td>\n",
       "      <td>South Van Ness at Market</td>\n",
       "      <td>66</td>\n",
       "      <td>520</td>\n",
       "      <td>Subscriber</td>\n",
       "      <td>94127</td>\n",
       "    </tr>\n",
       "    <tr>\n",
       "      <th>1</th>\n",
       "      <td>4607</td>\n",
       "      <td>70</td>\n",
       "      <td>8/29/2013 14:42</td>\n",
       "      <td>San Jose City Hall</td>\n",
       "      <td>10</td>\n",
       "      <td>8/29/2013 14:43</td>\n",
       "      <td>San Jose City Hall</td>\n",
       "      <td>10</td>\n",
       "      <td>661</td>\n",
       "      <td>Subscriber</td>\n",
       "      <td>95138</td>\n",
       "    </tr>\n",
       "    <tr>\n",
       "      <th>2</th>\n",
       "      <td>4130</td>\n",
       "      <td>71</td>\n",
       "      <td>8/29/2013 10:16</td>\n",
       "      <td>Mountain View City Hall</td>\n",
       "      <td>27</td>\n",
       "      <td>8/29/2013 10:17</td>\n",
       "      <td>Mountain View City Hall</td>\n",
       "      <td>27</td>\n",
       "      <td>48</td>\n",
       "      <td>Subscriber</td>\n",
       "      <td>97214</td>\n",
       "    </tr>\n",
       "    <tr>\n",
       "      <th>3</th>\n",
       "      <td>4251</td>\n",
       "      <td>77</td>\n",
       "      <td>8/29/2013 11:29</td>\n",
       "      <td>San Jose City Hall</td>\n",
       "      <td>10</td>\n",
       "      <td>8/29/2013 11:30</td>\n",
       "      <td>San Jose City Hall</td>\n",
       "      <td>10</td>\n",
       "      <td>26</td>\n",
       "      <td>Subscriber</td>\n",
       "      <td>95060</td>\n",
       "    </tr>\n",
       "    <tr>\n",
       "      <th>4</th>\n",
       "      <td>4299</td>\n",
       "      <td>83</td>\n",
       "      <td>8/29/2013 12:02</td>\n",
       "      <td>South Van Ness at Market</td>\n",
       "      <td>66</td>\n",
       "      <td>8/29/2013 12:04</td>\n",
       "      <td>Market at 10th</td>\n",
       "      <td>67</td>\n",
       "      <td>319</td>\n",
       "      <td>Subscriber</td>\n",
       "      <td>94103</td>\n",
       "    </tr>\n",
       "  </tbody>\n",
       "</table>\n",
       "</div>"
      ],
      "text/plain": [
       "   trip_id  duration       start_date             start_station  \\\n",
       "0     4576        63  8/29/2013 14:13  South Van Ness at Market   \n",
       "1     4607        70  8/29/2013 14:42        San Jose City Hall   \n",
       "2     4130        71  8/29/2013 10:16   Mountain View City Hall   \n",
       "3     4251        77  8/29/2013 11:29        San Jose City Hall   \n",
       "4     4299        83  8/29/2013 12:02  South Van Ness at Market   \n",
       "\n",
       "   start_terminal         end_date               end_station  end_terminal  \\\n",
       "0              66  8/29/2013 14:14  South Van Ness at Market            66   \n",
       "1              10  8/29/2013 14:43        San Jose City Hall            10   \n",
       "2              27  8/29/2013 10:17   Mountain View City Hall            27   \n",
       "3              10  8/29/2013 11:30        San Jose City Hall            10   \n",
       "4              66  8/29/2013 12:04            Market at 10th            67   \n",
       "\n",
       "   bike_# subscription_type zip_code  \n",
       "0     520        Subscriber    94127  \n",
       "1     661        Subscriber    95138  \n",
       "2      48        Subscriber    97214  \n",
       "3      26        Subscriber    95060  \n",
       "4     319        Subscriber    94103  "
      ]
     },
     "execution_count": 80,
     "metadata": {},
     "output_type": "execute_result"
    }
   ],
   "source": [
    "# MERGE TRIP DATA\n",
    "df_trips_data = [df_201402_trip, df_201408_trip, df_201508_trip]\n",
    "df_trip = pd.concat(df_trips_data)\n",
    "print(df_trip.shape)\n",
    "df_trip.head()"
   ]
  },
  {
   "cell_type": "code",
   "execution_count": 71,
   "metadata": {},
   "outputs": [
    {
     "name": "stdout",
     "output_type": "stream",
     "text": [
      "['date', 'max_temperature_f', 'mean_temperature_f', 'min_temperaturef', 'max_dew_point_f', 'meandew_point_f', 'min_dewpoint_f', 'max_humidity', 'mean_humidity', 'min_humidity', 'max_sea_level_pressure_in', 'mean_sea_level_pressure_in', 'min_sea_level_pressure_in', 'max_visibility_miles', 'mean_visibility_miles', 'min_visibility_miles', 'max_wind_speed_mph', 'mean_wind_speed_mph', 'max_gust_speed_mph', 'precipitation_in', 'cloud_cover', 'events', 'wind_dir_degrees', 'zip']\n",
      "['date', 'max_temperature_f', 'mean_temperature_f', 'min_temperaturef', 'max_dew_point_f', 'meandew_point_f', 'min_dewpoint_f', 'max_humidity', 'mean_humidity', 'min_humidity', 'max_sea_level_pressure_in', 'mean_sea_level_pressure_in', 'min_sea_level_pressure_in', 'max_visibility_miles', 'mean_visibility_miles', 'min_visibility_miles', 'max_wind_speed_mph', 'mean_wind_speed_mph', 'max_gust_speed_mph', 'precipitation_in', 'cloud_cover', 'events', 'wind_dir_degrees', 'zip']\n",
      "['date', 'max_temperature_f', 'mean_temperature_f', 'min_temperaturef', 'max_dew_point_f', 'meandew_point_f', 'min_dewpoint_f', 'max_humidity', 'mean_humidity', 'min_humidity', 'max_sea_level_pressure_in', 'mean_sea_level_pressure_in', 'min_sea_level_pressure_in', 'max_visibility_miles', 'mean_visibility_miles', 'min_visibility_miles', 'max_wind_speed_mph', 'mean_wind_speed_mph', 'max_gust_speed_mph', 'precipitation_in', 'cloud_cover', 'events', 'wind_dir_degrees', 'zip']\n"
     ]
    }
   ],
   "source": [
    "# CHECANDO OS NOMES DE COLUNAS\n",
    "print(df_201402_weather.columns.tolist())\n",
    "print(df_201408_weather.columns.tolist())\n",
    "print(df_201508_weather.columns.tolist())"
   ]
  },
  {
   "cell_type": "code",
   "execution_count": 72,
   "metadata": {},
   "outputs": [
    {
     "name": "stdout",
     "output_type": "stream",
     "text": [
      "True - date date\n",
      "True - max_temperature_f max_temperature_f\n",
      "True - mean_temperature_f mean_temperature_f\n",
      "True - min_temperaturef min_temperaturef\n",
      "True - max_dew_point_f max_dew_point_f\n",
      "True - meandew_point_f meandew_point_f\n",
      "True - min_dewpoint_f min_dewpoint_f\n",
      "True - max_humidity max_humidity\n",
      "True - mean_humidity mean_humidity\n",
      "True - min_humidity min_humidity\n",
      "True - max_sea_level_pressure_in max_sea_level_pressure_in\n",
      "True - mean_sea_level_pressure_in mean_sea_level_pressure_in\n",
      "True - min_sea_level_pressure_in min_sea_level_pressure_in\n",
      "True - max_visibility_miles max_visibility_miles\n",
      "True - mean_visibility_miles mean_visibility_miles\n",
      "True - min_visibility_miles min_visibility_miles\n",
      "True - max_wind_speed_mph max_wind_speed_mph\n",
      "True - mean_wind_speed_mph mean_wind_speed_mph\n",
      "True - max_gust_speed_mph max_gust_speed_mph\n",
      "True - precipitation_in precipitation_in\n",
      "True - cloud_cover cloud_cover\n",
      "True - events events\n",
      "True - wind_dir_degrees wind_dir_degrees\n",
      "True - zip zip\n",
      "Total False: 0\n"
     ]
    }
   ],
   "source": [
    "name_equal_weather_1 = []\n",
    "for i in range(df_201402_weather.shape[1]):\n",
    "    check = df_201402_weather.columns.tolist()[i] == df_201408_weather.columns.tolist()[i]\n",
    "    name_equal_weather_1.append(not check)\n",
    "    print(str(check) + \" - \" + df_201402_weather.columns.tolist()[i] +\" \"+ df_201408_weather.columns.tolist()[i])\n",
    "print(\"Total False: \"+str(sum(name_equal_weather_1)))"
   ]
  },
  {
   "cell_type": "code",
   "execution_count": 61,
   "metadata": {},
   "outputs": [
    {
     "name": "stdout",
     "output_type": "stream",
     "text": [
      "True - date date\n",
      "True - max_temperature_f max_temperature_f\n",
      "True - mean_temperature_f mean_temperature_f\n",
      "True - min_temperaturef min_temperaturef\n",
      "True - max_dew_point_f max_dew_point_f\n",
      "True - meandew_point_f meandew_point_f\n",
      "True - min_dewpoint_f min_dewpoint_f\n",
      "True - max_humidity max_humidity\n",
      "True - mean_humidity mean_humidity\n",
      "True - min_humidity min_humidity\n",
      "True - max_sea_level_pressure_in max_sea_level_pressure_in\n",
      "True - mean_sea_level_pressure_in mean_sea_level_pressure_in\n",
      "True - min_sea_level_pressure_in min_sea_level_pressure_in\n",
      "True - max_visibility_miles max_visibility_miles\n",
      "True - mean_visibility_miles mean_visibility_miles\n",
      "True - min_visibility_miles min_visibility_miles\n",
      "True - max_wind_speed_mph max_wind_speed_mph\n",
      "True - mean_wind_speed_mph mean_wind_speed_mph\n",
      "True - max_gust_speed_mph max_gust_speed_mph\n",
      "True - precipitation_in precipitation_in\n",
      "True - cloud_cover cloud_cover\n",
      "True - events events\n",
      "True - wind_dir_degrees wind_dir_degrees\n",
      "True - zip zip\n",
      "Total False: 0\n"
     ]
    }
   ],
   "source": [
    "name_equal_weather_2 = []\n",
    "for i in range(df_201402_weather.shape[1]):\n",
    "    check = df_201402_weather.columns.tolist()[i] == df_201508_weather.columns.tolist()[i]\n",
    "    name_equal_weather_2.append(not check)\n",
    "    print(str(check) + \" - \" + df_201402_weather.columns.tolist()[i] +\" \"+ df_201508_weather.columns.tolist()[i])\n",
    "print(\"Total False: \"+str(sum(name_equal_weather_2)))"
   ]
  },
  {
   "cell_type": "code",
   "execution_count": 73,
   "metadata": {},
   "outputs": [
    {
     "data": {
      "text/plain": [
       "True"
      ]
     },
     "execution_count": 73,
     "metadata": {},
     "output_type": "execute_result"
    }
   ],
   "source": [
    "# CHECANDO SE SAO AS MESMAS COLUNAS COM NOMES DIFERENTES\n",
    "name_equal_weather_1 == name_equal_weather_2"
   ]
  },
  {
   "cell_type": "code",
   "execution_count": 77,
   "metadata": {},
   "outputs": [
    {
     "name": "stdout",
     "output_type": "stream",
     "text": [
      "True\n",
      "True\n"
     ]
    }
   ],
   "source": [
    "colnames = df_201402_weather.columns.tolist()\n",
    "df_201408_weather.columns = colnames\n",
    "df_201508_weather.columns = colnames\n",
    "print(df_201402_weather.columns.tolist() == df_201408_weather.columns.tolist())\n",
    "print(df_201402_weather.columns.tolist() == df_201508_weather.columns.tolist())"
   ]
  },
  {
   "cell_type": "code",
   "execution_count": 75,
   "metadata": {},
   "outputs": [
    {
     "data": {
      "text/plain": [
       "(3665, 24)"
      ]
     },
     "execution_count": 75,
     "metadata": {},
     "output_type": "execute_result"
    }
   ],
   "source": [
    "# MERGE WEATHER DATA\n",
    "df_weathers_data = [df_201402_weather, df_201408_weather, df_201508_weather]\n",
    "df_weather = pd.concat(df_weathers_data)\n",
    "df_weather.shape"
   ]
  },
  {
   "cell_type": "code",
   "execution_count": 76,
   "metadata": {},
   "outputs": [
    {
     "data": {
      "text/plain": [
       "0"
      ]
     },
     "execution_count": 76,
     "metadata": {},
     "output_type": "execute_result"
    }
   ],
   "source": [
    "# VERIFICANDO DUPLICATAS\n",
    "sum(df_weather.duplicated())"
   ]
  },
  {
   "cell_type": "code",
   "execution_count": null,
   "metadata": {},
   "outputs": [],
   "source": [
    "##########\n",
    "# ANALISES\n",
    "##########"
   ]
  },
  {
   "cell_type": "code",
   "execution_count": 82,
   "metadata": {},
   "outputs": [
    {
     "data": {
      "text/html": [
       "<div>\n",
       "<style scoped>\n",
       "    .dataframe tbody tr th:only-of-type {\n",
       "        vertical-align: middle;\n",
       "    }\n",
       "\n",
       "    .dataframe tbody tr th {\n",
       "        vertical-align: top;\n",
       "    }\n",
       "\n",
       "    .dataframe thead th {\n",
       "        text-align: right;\n",
       "    }\n",
       "</style>\n",
       "<table border=\"1\" class=\"dataframe\">\n",
       "  <thead>\n",
       "    <tr style=\"text-align: right;\">\n",
       "      <th></th>\n",
       "      <th>trip_id</th>\n",
       "      <th>duration</th>\n",
       "      <th>start_terminal</th>\n",
       "      <th>end_terminal</th>\n",
       "      <th>bike_#</th>\n",
       "    </tr>\n",
       "  </thead>\n",
       "  <tbody>\n",
       "    <tr>\n",
       "      <th>count</th>\n",
       "      <td>669959.000000</td>\n",
       "      <td>6.699590e+05</td>\n",
       "      <td>669959.000000</td>\n",
       "      <td>669959.000000</td>\n",
       "      <td>669959.000000</td>\n",
       "    </tr>\n",
       "    <tr>\n",
       "      <th>mean</th>\n",
       "      <td>460382.009899</td>\n",
       "      <td>1.107950e+03</td>\n",
       "      <td>57.851876</td>\n",
       "      <td>57.837438</td>\n",
       "      <td>427.587620</td>\n",
       "    </tr>\n",
       "    <tr>\n",
       "      <th>std</th>\n",
       "      <td>264584.458487</td>\n",
       "      <td>2.225544e+04</td>\n",
       "      <td>17.112474</td>\n",
       "      <td>17.200142</td>\n",
       "      <td>153.450988</td>\n",
       "    </tr>\n",
       "    <tr>\n",
       "      <th>min</th>\n",
       "      <td>4069.000000</td>\n",
       "      <td>6.000000e+01</td>\n",
       "      <td>2.000000</td>\n",
       "      <td>2.000000</td>\n",
       "      <td>9.000000</td>\n",
       "    </tr>\n",
       "    <tr>\n",
       "      <th>25%</th>\n",
       "      <td>231082.500000</td>\n",
       "      <td>3.440000e+02</td>\n",
       "      <td>50.000000</td>\n",
       "      <td>50.000000</td>\n",
       "      <td>334.000000</td>\n",
       "    </tr>\n",
       "    <tr>\n",
       "      <th>50%</th>\n",
       "      <td>459274.000000</td>\n",
       "      <td>5.170000e+02</td>\n",
       "      <td>62.000000</td>\n",
       "      <td>62.000000</td>\n",
       "      <td>440.000000</td>\n",
       "    </tr>\n",
       "    <tr>\n",
       "      <th>75%</th>\n",
       "      <td>692601.000000</td>\n",
       "      <td>7.550000e+02</td>\n",
       "      <td>70.000000</td>\n",
       "      <td>70.000000</td>\n",
       "      <td>546.000000</td>\n",
       "    </tr>\n",
       "    <tr>\n",
       "      <th>max</th>\n",
       "      <td>913460.000000</td>\n",
       "      <td>1.727040e+07</td>\n",
       "      <td>84.000000</td>\n",
       "      <td>84.000000</td>\n",
       "      <td>878.000000</td>\n",
       "    </tr>\n",
       "  </tbody>\n",
       "</table>\n",
       "</div>"
      ],
      "text/plain": [
       "             trip_id      duration  start_terminal   end_terminal  \\\n",
       "count  669959.000000  6.699590e+05   669959.000000  669959.000000   \n",
       "mean   460382.009899  1.107950e+03       57.851876      57.837438   \n",
       "std    264584.458487  2.225544e+04       17.112474      17.200142   \n",
       "min      4069.000000  6.000000e+01        2.000000       2.000000   \n",
       "25%    231082.500000  3.440000e+02       50.000000      50.000000   \n",
       "50%    459274.000000  5.170000e+02       62.000000      62.000000   \n",
       "75%    692601.000000  7.550000e+02       70.000000      70.000000   \n",
       "max    913460.000000  1.727040e+07       84.000000      84.000000   \n",
       "\n",
       "              bike_#  \n",
       "count  669959.000000  \n",
       "mean      427.587620  \n",
       "std       153.450988  \n",
       "min         9.000000  \n",
       "25%       334.000000  \n",
       "50%       440.000000  \n",
       "75%       546.000000  \n",
       "max       878.000000  "
      ]
     },
     "execution_count": 82,
     "metadata": {},
     "output_type": "execute_result"
    }
   ],
   "source": [
    "df_trip.describe()"
   ]
  },
  {
   "cell_type": "code",
   "execution_count": 84,
   "metadata": {},
   "outputs": [
    {
     "data": {
      "text/plain": [
       "11.0795"
      ]
     },
     "execution_count": 84,
     "metadata": {},
     "output_type": "execute_result"
    }
   ],
   "source": [
    "1.107950e+01"
   ]
  },
  {
   "cell_type": "code",
   "execution_count": null,
   "metadata": {},
   "outputs": [],
   "source": []
  }
 ],
 "metadata": {
  "kernelspec": {
   "display_name": "Python 3",
   "language": "python",
   "name": "python3"
  },
  "language_info": {
   "codemirror_mode": {
    "name": "ipython",
    "version": 3
   },
   "file_extension": ".py",
   "mimetype": "text/x-python",
   "name": "python",
   "nbconvert_exporter": "python",
   "pygments_lexer": "ipython3",
   "version": "3.6.4"
  }
 },
 "nbformat": 4,
 "nbformat_minor": 2
}
