{
 "cells": [
  {
   "cell_type": "code",
   "execution_count": 1,
   "metadata": {},
   "outputs": [],
   "source": [
    "# Analysis\n",
    "\n",
    "# 201309_trip_data.csv\n",
    "# 201309_trip_summary.csv\n",
    "# 201402_README.txt\n",
    "# 201402_station_data.csv\n",
    "# 201402_trip_data.csv\n",
    "# 201402_weather_data.csv\n",
    "# 201408_README.txt\n",
    "# 201408_station_data.csv\n",
    "# 201408_trip_data.csv\n",
    "# 201408_weather_data.csv\n",
    "# 201508_README.txt\n",
    "# 201508_station_data.csv\n",
    "# 201508_trip_data.csv\n",
    "# 201508_weather_data.csv"
   ]
  },
  {
   "cell_type": "code",
   "execution_count": 25,
   "metadata": {},
   "outputs": [],
   "source": [
    "# IMPORT PACKAGES\n",
    "import pandas as pd"
   ]
  },
  {
   "cell_type": "code",
   "execution_count": 31,
   "metadata": {},
   "outputs": [],
   "source": [
    "# READ DATA\n",
    "df_201402_station = pd.read_csv('ndfdsi-bikeshareanalysis/201402_station_data.csv')\n",
    "df_201402_trip = pd.read_csv('ndfdsi-bikeshareanalysis/201402_trip_data.csv')\n",
    "df_201402_weather = pd.read_csv('ndfdsi-bikeshareanalysis/201402_weather_data.csv')\n",
    "\n",
    "df_201408_station = pd.read_csv('ndfdsi-bikeshareanalysis/201408_station_data.csv')\n",
    "df_201408_trip = pd.read_csv('ndfdsi-bikeshareanalysis/201408_trip_data.csv')\n",
    "df_201408_weather = pd.read_csv('ndfdsi-bikeshareanalysis/201408_weather_data.csv')\n",
    "\n",
    "df_201508_station = pd.read_csv('ndfdsi-bikeshareanalysis/201508_station_data.csv')\n",
    "df_201508_trip = pd.read_csv('ndfdsi-bikeshareanalysis/201508_trip_data.csv')\n",
    "df_201508_weather = pd.read_csv('ndfdsi-bikeshareanalysis/201508_weather_data.csv')"
   ]
  },
  {
   "cell_type": "code",
   "execution_count": 65,
   "metadata": {},
   "outputs": [
    {
     "name": "stdout",
     "output_type": "stream",
     "text": [
      "TABLE\t\t\tNROW\tNCOL\n",
      "df_201402_station\t69\t7\n",
      "df_201408_station\t70\t7\n",
      "df_201508_station\t70\t7\n",
      "df_201402_trip\t\t144015\t11\n",
      "df_201408_trip\t\t171792\t11\n",
      "df_201508_trip\t\t354152\t11\n",
      "df_201402_weather\t920\t24\n",
      "df_201408_weather\t920\t24\n",
      "df_201508_weather\t1825\t24\n"
     ]
    }
   ],
   "source": [
    "# CHECK d201402 DATA SIZE\n",
    "# CHECK d201408 DATA SIZE\n",
    "# CHECK d201508 DATA SIZE\n",
    "print(\"TABLE\\t\\t\\tNROW\\tNCOL\")\n",
    "print(\"df_201402_station\\t\" + str(df_201402_station.shape[0]) + \"\\t\" + str(df_201402_station.shape[1]))\n",
    "print(\"df_201408_station\\t\" + str(df_201408_station.shape[0]) + \"\\t\" + str(df_201408_station.shape[1]))\n",
    "print(\"df_201508_station\\t\" + str(df_201508_station.shape[0]) + \"\\t\" + str(df_201508_station.shape[1]))\n",
    "\n",
    "print(\"df_201402_trip\\t\\t\" + str(df_201402_trip.shape[0]) + \"\\t\" + str(df_201402_trip.shape[1]))\n",
    "print(\"df_201408_trip\\t\\t\" + str(df_201408_trip.shape[0]) + \"\\t\" + str(df_201408_trip.shape[1]))\n",
    "print(\"df_201508_trip\\t\\t\" + str(df_201508_trip.shape[0]) + \"\\t\" + str(df_201508_trip.shape[1]))\n",
    "\n",
    "print(\"df_201402_weather\\t\" + str(df_201402_weather.shape[0]) + \"\\t\" + str(df_201402_weather.shape[1]))\n",
    "print(\"df_201408_weather\\t\" + str(df_201408_weather.shape[0]) + \"\\t\" + str(df_201408_weather.shape[1]))\n",
    "print(\"df_201508_weather\\t\" + str(df_201508_weather.shape[0]) + \"\\t\" + str(df_201508_weather.shape[1]))"
   ]
  },
  {
   "cell_type": "code",
   "execution_count": 66,
   "metadata": {},
   "outputs": [],
   "source": [
    "# CHANGE COLUMN NAME\n",
    "df_201402_station.rename(columns=lambda x: x.strip().lower().replace(\" \", \"_\"), inplace=True)\n",
    "df_201402_trip.rename(columns=lambda x: x.strip().lower().replace(\" \", \"_\"), inplace=True)\n",
    "df_201402_weather.rename(columns=lambda x: x.strip().lower().replace(\" \", \"_\"), inplace=True)\n",
    "df_201408_station.rename(columns=lambda x: x.strip().lower().replace(\" \", \"_\"), inplace=True)\n",
    "df_201408_trip.rename(columns=lambda x: x.strip().lower().replace(\" \", \"_\"), inplace=True)\n",
    "df_201408_weather.rename(columns=lambda x: x.strip().lower().replace(\" \", \"_\"), inplace=True)\n",
    "df_201508_station.rename(columns=lambda x: x.strip().lower().replace(\" \", \"_\"), inplace=True)\n",
    "df_201508_trip.rename(columns=lambda x: x.strip().lower().replace(\" \", \"_\"), inplace=True)\n",
    "df_201508_weather.rename(columns=lambda x: x.strip().lower().replace(\" \", \"_\"), inplace=True)"
   ]
  },
  {
   "cell_type": "code",
   "execution_count": 53,
   "metadata": {},
   "outputs": [],
   "source": [
    "# ---- PROCESS DATA ----"
   ]
  },
  {
   "cell_type": "code",
   "execution_count": 67,
   "metadata": {},
   "outputs": [
    {
     "data": {
      "text/plain": [
       "True"
      ]
     },
     "execution_count": 67,
     "metadata": {},
     "output_type": "execute_result"
    }
   ],
   "source": [
    "# CHECK IF STATION TABLE COLUMN NAME IS EQUAL\n",
    "df_201402_station.columns.tolist() == df_201408_station.columns.tolist() == df_201508_station.columns.tolist()"
   ]
  },
  {
   "cell_type": "code",
   "execution_count": 50,
   "metadata": {},
   "outputs": [
    {
     "name": "stdout",
     "output_type": "stream",
     "text": [
      "TABLE\t\tNROW\tNCOL\tNDUPLICATES\n",
      "df_station\t209\t7\t133\n",
      "\n",
      "Remove the duplicated data\n",
      "\n",
      "TABLE\t\tNROW\tNCOL\tNDUPLICATES\n",
      "df_station\t76\t7\t0\n"
     ]
    }
   ],
   "source": [
    "# MERGE STATION TABLES\n",
    "df_stations_data = [df_201402_station, df_201408_station, df_201508_station]\n",
    "df_station = pd.concat(df_stations_data)\n",
    "\n",
    "# PRINT STATION TABLE SIZE, NUM OF DUPLICATES\n",
    "print(\"TABLE\\t\\tNROW\\tNCOL\\tNDUPLICATES\")\n",
    "print(\"df_station\\t\" + str(df_station.shape[0]) + \n",
    "      \"\\t\" + str(df_station.shape[1]) + \n",
    "      \"\\t\" + str(sum(df_station.duplicated())))\n",
    "\n",
    "# REMOVENDO AS DUPLICATAS\n",
    "print(\"\\nRemove the duplicated data\\n\")\n",
    "df_station.drop_duplicates(inplace=True)\n",
    "\n",
    "# PRINT STATION TABLE SIZE, NUM OF DUPLICATES\n",
    "print(\"TABLE\\t\\tNROW\\tNCOL\\tNDUPLICATES\")\n",
    "print(\"df_station\\t\" + str(df_station.shape[0]) + \n",
    "      \"\\t\" + str(df_station.shape[1]) + \n",
    "      \"\\t\" + str(sum(df_station.duplicated())))"
   ]
  },
  {
   "cell_type": "code",
   "execution_count": 51,
   "metadata": {},
   "outputs": [
    {
     "data": {
      "text/plain": [
       "False"
      ]
     },
     "execution_count": 51,
     "metadata": {},
     "output_type": "execute_result"
    }
   ],
   "source": [
    "# CHECK IF TRIP TABLE COLUMN NAME IS EQUAL\n",
    "df_201402_trip.columns.tolist() == df_201408_trip.columns.tolist() == df_201508_trip.columns.tolist()"
   ]
  },
  {
   "cell_type": "code",
   "execution_count": 97,
   "metadata": {},
   "outputs": [
    {
     "name": "stdout",
     "output_type": "stream",
     "text": [
      "df_201402_trip x df_201408_trip\n",
      "IS EQUAL\tCOLUMN NAME\n",
      "True\t\t|trip_id|----|trip_id|\n",
      "True\t\t|duration|----|duration|\n",
      "True\t\t|start_date|----|start_date|\n",
      "True\t\t|start_station|----|start_station|\n",
      "True\t\t|start_terminal|----|start_terminal|\n",
      "True\t\t|end_date|----|end_date|\n",
      "True\t\t|end_station|----|end_station|\n",
      "True\t\t|end_terminal|----|end_terminal|\n",
      "True\t\t|bike_#|----|bike_#|\n",
      "True\t\t|subscription_type|----|subscription_type|\n",
      "True\t\t|zip_code|----|zip_code|\n",
      "Total False: 0\n",
      "\n",
      "----------//----------\n",
      "\n",
      "df_201402_trip x df_201508_trip\n",
      "IS EQUAL\tCOLUMN NAME\n",
      "True\t\t|trip_id|----|trip_id|\n",
      "True\t\t|duration|----|duration|\n",
      "True\t\t|start_date|----|start_date|\n",
      "True\t\t|start_station|----|start_station|\n",
      "True\t\t|start_terminal|----|start_terminal|\n",
      "True\t\t|end_date|----|end_date|\n",
      "True\t\t|end_station|----|end_station|\n",
      "True\t\t|end_terminal|----|end_terminal|\n",
      "True\t\t|bike_#|----|bike_#|\n",
      "True\t\t|subscription_type|----|subscription_type|\n",
      "True\t\t|zip_code|----|zip_code|\n",
      "Total False: 0\n"
     ]
    }
   ],
   "source": [
    "# COMPARE COLUMN NAMES BETWEEN TRIP TABLES\n",
    "print(\"df_201402_trip x df_201408_trip\")\n",
    "print(\"IS EQUAL\\tCOLUMN NAME\")\n",
    "name_equal_trip_1 = []\n",
    "for i in range(df_201402_trip.shape[1]):\n",
    "    check = df_201402_trip.columns.tolist()[i] == df_201408_trip.columns.tolist()[i]\n",
    "    name_equal_trip_1.append(not check)    \n",
    "    print(str(check) + \"\\t\\t\" + \n",
    "          \"|\" + str(df_201402_trip.columns.tolist()[i]) + \n",
    "          \"|----|\" + \n",
    "          str(df_201408_trip.columns.tolist()[i]) + \"|\" ) \n",
    "print(\"Total False: \"+str(sum(name_equal_trip_1)))\n",
    "\n",
    "print(\"\\n----------//----------\\n\")\n",
    "\n",
    "print(\"df_201402_trip x df_201508_trip\")\n",
    "print(\"IS EQUAL\\tCOLUMN NAME\")\n",
    "name_equal_trip_2 = []\n",
    "for i in range(df_201402_trip.shape[1]):\n",
    "    check = df_201402_trip.columns.tolist()[i] == df_201508_trip.columns.tolist()[i]\n",
    "    name_equal_trip_2.append(not check)\n",
    "    print(str(check) + \"\\t\\t\" + \n",
    "          \"|\" + str(df_201402_trip.columns.tolist()[i]) +\n",
    "          \"|----|\" + \n",
    "          str(df_201508_trip.columns.tolist()[i]) + \"|\"  )\n",
    "print(\"Total False: \"+str(sum(name_equal_trip_2)))\n"
   ]
  },
  {
   "cell_type": "code",
   "execution_count": 85,
   "metadata": {},
   "outputs": [
    {
     "name": "stdout",
     "output_type": "stream",
     "text": [
      "Is same the columns with differ names?\n",
      "True\n",
      "\n",
      "Change names...\n",
      "\n",
      "Is equal the columns name?\n",
      "True\n"
     ]
    }
   ],
   "source": [
    "# CHECANDO SE SAO AS MESMAS COLUNAS COM NOMES DIFERENTES\n",
    "print(\"Is same the columns with differ names?\\n\" + str(name_equal_trip_1 == name_equal_trip_2))\n",
    "\n",
    "# CHANGE COLUMN NAMES\n",
    "print(\"\\nChange names...\\n\")\n",
    "colnames = df_201402_trip.columns.tolist()\n",
    "df_201408_trip.columns = colnames\n",
    "df_201508_trip.columns = colnames\n",
    "\n",
    "# CHECK IF TRIP TABLE COLUMN NAME IS EQUAL\n",
    "print(\"Is equal the columns name?\\n\" + \n",
    "     str(df_201402_trip.columns.tolist() == df_201408_trip.columns.tolist() == df_201508_trip.columns.tolist()))\n"
   ]
  },
  {
   "cell_type": "code",
   "execution_count": 91,
   "metadata": {},
   "outputs": [
    {
     "name": "stdout",
     "output_type": "stream",
     "text": [
      "TABLE\t\tNROW\tNCOL\tNDUPLICATES\n",
      "df_trip\t\t669959\t11\t0\n"
     ]
    }
   ],
   "source": [
    "# MERGE TRIP TABLES\n",
    "df_trips_data = [df_201402_trip, df_201408_trip, df_201508_trip]\n",
    "df_trip = pd.concat(df_trips_data)\n",
    "\n",
    "# PRINT TRIP TABLE SIZE, NUM OF DUPLICATES\n",
    "print(\"TABLE\\t\\tNROW\\tNCOL\\tNDUPLICATES\")\n",
    "print(\"df_trip\\t\\t\" + str(df_trip.shape[0]) + \n",
    "      \"\\t\" + str(df_trip.shape[1]) + \n",
    "      \"\\t\" + str(sum(df_trip.duplicated())))"
   ]
  },
  {
   "cell_type": "code",
   "execution_count": 101,
   "metadata": {},
   "outputs": [
    {
     "name": "stdout",
     "output_type": "stream",
     "text": [
      "df_201402_weather x df_201408_weather\n",
      "IS EQUAL\tCOLUMN NAME\n",
      "False\t\t|date|----|pdt|\n",
      "False\t\t|max_temperature_f|----|max_temperaturef|\n",
      "False\t\t|mean_temperature_f|----|mean_temperaturef|\n",
      "True\t\t|min_temperaturef|----|min_temperaturef|\n",
      "False\t\t|max_dew_point_f|----|max_dew_pointf|\n",
      "False\t\t|meandew_point_f|----|meandew_pointf|\n",
      "False\t\t|min_dewpoint_f|----|min_dewpointf|\n",
      "True\t\t|max_humidity|----|max_humidity|\n",
      "True\t\t|mean_humidity|----|mean_humidity|\n",
      "True\t\t|min_humidity|----|min_humidity|\n",
      "False\t\t|max_sea_level_pressure_in|----|max_sea_level_pressurein|\n",
      "False\t\t|mean_sea_level_pressure_in|----|mean_sea_level_pressurein|\n",
      "False\t\t|min_sea_level_pressure_in|----|min_sea_level_pressurein|\n",
      "False\t\t|max_visibility_miles|----|max_visibilitymiles|\n",
      "False\t\t|mean_visibility_miles|----|mean_visibilitymiles|\n",
      "False\t\t|min_visibility_miles|----|min_visibilitymiles|\n",
      "False\t\t|max_wind_speed_mph|----|max_wind_speedmph|\n",
      "False\t\t|mean_wind_speed_mph|----|mean_wind_speedmph|\n",
      "False\t\t|max_gust_speed_mph|----|max_gust_speedmph|\n",
      "False\t\t|precipitation_in|----|precipitationin|\n",
      "False\t\t|cloud_cover|----|cloudcover|\n",
      "True\t\t|events|----|events|\n",
      "False\t\t|wind_dir_degrees|----|winddirdegrees|\n",
      "True\t\t|zip|----|zip|\n",
      "Total False: 18\n",
      "\n",
      "----------//----------\n",
      "\n",
      "df_201402_weather x df_201408_weather\n",
      "IS EQUAL\tCOLUMN NAME\n",
      "False\t\t|date|----|pdt|\n",
      "False\t\t|max_temperature_f|----|max_temperaturef|\n",
      "False\t\t|mean_temperature_f|----|mean_temperaturef|\n",
      "True\t\t|min_temperaturef|----|min_temperaturef|\n",
      "False\t\t|max_dew_point_f|----|max_dew_pointf|\n",
      "False\t\t|meandew_point_f|----|meandew_pointf|\n",
      "False\t\t|min_dewpoint_f|----|min_dewpointf|\n",
      "True\t\t|max_humidity|----|max_humidity|\n",
      "True\t\t|mean_humidity|----|mean_humidity|\n",
      "True\t\t|min_humidity|----|min_humidity|\n",
      "False\t\t|max_sea_level_pressure_in|----|max_sea_level_pressurein|\n",
      "False\t\t|mean_sea_level_pressure_in|----|mean_sea_level_pressurein|\n",
      "False\t\t|min_sea_level_pressure_in|----|min_sea_level_pressurein|\n",
      "False\t\t|max_visibility_miles|----|max_visibilitymiles|\n",
      "False\t\t|mean_visibility_miles|----|mean_visibilitymiles|\n",
      "False\t\t|min_visibility_miles|----|min_visibilitymiles|\n",
      "False\t\t|max_wind_speed_mph|----|max_wind_speedmph|\n",
      "False\t\t|mean_wind_speed_mph|----|mean_wind_speedmph|\n",
      "False\t\t|max_gust_speed_mph|----|max_gust_speedmph|\n",
      "False\t\t|precipitation_in|----|precipitationin|\n",
      "False\t\t|cloud_cover|----|cloudcover|\n",
      "True\t\t|events|----|events|\n",
      "False\t\t|wind_dir_degrees|----|winddirdegrees|\n",
      "True\t\t|zip|----|zip|\n",
      "Total False: 18\n"
     ]
    }
   ],
   "source": [
    "# COMPARE COLUMN NAMES BETWEEN WEATHER TABLES\n",
    "print(\"df_201402_weather x df_201408_weather\")\n",
    "print(\"IS EQUAL\\tCOLUMN NAME\")\n",
    "name_equal_weather_1 = []\n",
    "for i in range(df_201402_weather.shape[1]):\n",
    "    check = df_201402_weather.columns.tolist()[i] == df_201408_weather.columns.tolist()[i]\n",
    "    name_equal_weather_1.append(not check)\n",
    "    print(str(check) + \"\\t\\t\" + \n",
    "          \"|\" + str(df_201402_weather.columns.tolist()[i]) +\n",
    "          \"|----|\" + \n",
    "          str(df_201408_weather.columns.tolist()[i]) + \"|\" )\n",
    "print(\"Total False: \"+str(sum(name_equal_weather_1)))\n",
    "\n",
    "print(\"\\n----------//----------\\n\")\n",
    "\n",
    "print(\"df_201402_weather x df_201408_weather\")\n",
    "print(\"IS EQUAL\\tCOLUMN NAME\")\n",
    "name_equal_weather_2 = []\n",
    "for i in range(df_201402_weather.shape[1]):\n",
    "    check = df_201402_weather.columns.tolist()[i] == df_201508_weather.columns.tolist()[i]\n",
    "    name_equal_weather_2.append(not check)\n",
    "    print(str(check) + \"\\t\\t\" + \n",
    "          \"|\" + str(df_201402_weather.columns.tolist()[i]) +\n",
    "          \"|----|\" + \n",
    "          str(df_201508_weather.columns.tolist()[i]) + \"|\" )\n",
    "print(\"Total False: \"+str(sum(name_equal_weather_2)))"
   ]
  },
  {
   "cell_type": "code",
   "execution_count": 102,
   "metadata": {},
   "outputs": [
    {
     "name": "stdout",
     "output_type": "stream",
     "text": [
      "Is same the columns with differ names?\n",
      "True\n",
      "\n",
      "Change names...\n",
      "\n",
      "Is equal the columns name?\n",
      "True\n"
     ]
    }
   ],
   "source": [
    "# CHECANDO SE SAO AS MESMAS COLUNAS COM NOMES DIFERENTES\n",
    "print(\"Is same the columns with differ names?\\n\" + str(name_equal_weather_1 == name_equal_weather_2))\n",
    "\n",
    "# CHANGE COLUMN NAMES\n",
    "print(\"\\nChange names...\\n\")\n",
    "colnames = df_201402_weather.columns.tolist()\n",
    "df_201408_weather.columns = colnames\n",
    "df_201508_weather.columns = colnames\n",
    "\n",
    "# CHECK IF TRIP TABLE COLUMN NAME IS EQUAL\n",
    "print(\"Is equal the columns name?\\n\" + \n",
    "     str(df_201402_weather.columns.tolist() == df_201408_weather.columns.tolist() == df_201508_weather.columns.tolist()))"
   ]
  },
  {
   "cell_type": "code",
   "execution_count": 103,
   "metadata": {},
   "outputs": [
    {
     "name": "stdout",
     "output_type": "stream",
     "text": [
      "TABLE\t\tNROW\tNCOL\tNDUPLICATES\n",
      "df_trip\t\t3665\t24\t0\n"
     ]
    }
   ],
   "source": [
    "# MERGE WEATHER TABLES\n",
    "df_weathers_data = [df_201402_weather, df_201408_weather, df_201508_weather]\n",
    "df_weather = pd.concat(df_weathers_data)\n",
    "\n",
    "# PRINT TRIP TABLE SIZE, NUM OF DUPLICATES\n",
    "print(\"TABLE\\t\\tNROW\\tNCOL\\tNDUPLICATES\")\n",
    "print(\"df_trip\\t\\t\" + str(df_weather.shape[0]) + \n",
    "      \"\\t\" + str(df_weather.shape[1]) + \n",
    "      \"\\t\" + str(sum(df_weather.duplicated())))"
   ]
  },
  {
   "cell_type": "code",
   "execution_count": 106,
   "metadata": {},
   "outputs": [
    {
     "name": "stdout",
     "output_type": "stream",
     "text": [
      "Tables sizes\n",
      "TABLE\t\tNROW\tNCOL\tNDUPLICATES\n",
      "df_station\t76\t7\t0\n",
      "df_trip\t\t669959\t11\t0\n",
      "df_trip\t\t3665\t24\t0\n"
     ]
    }
   ],
   "source": [
    "# CHECK TABLES SIZES\n",
    "\n",
    "print(\"Tables sizes\")\n",
    "print(\"TABLE\\t\\tNROW\\tNCOL\\tNDUPLICATES\")\n",
    "print(\"df_station\\t\" + str(df_station.shape[0]) + \n",
    "      \"\\t\" + str(df_station.shape[1]) + \n",
    "      \"\\t\" + str(sum(df_station.duplicated())))\n",
    "print(\"df_trip\\t\\t\" + str(df_trip.shape[0]) + \n",
    "      \"\\t\" + str(df_trip.shape[1]) + \n",
    "      \"\\t\" + str(sum(df_trip.duplicated())))\n",
    "print(\"df_trip\\t\\t\" + str(df_weather.shape[0]) + \n",
    "      \"\\t\" + str(df_weather.shape[1]) + \n",
    "      \"\\t\" + str(sum(df_weather.duplicated())))"
   ]
  },
  {
   "cell_type": "code",
   "execution_count": 107,
   "metadata": {},
   "outputs": [],
   "source": [
    "############\n",
    "# ANALISES #\n",
    "############"
   ]
  },
  {
   "cell_type": "code",
   "execution_count": 109,
   "metadata": {},
   "outputs": [
    {
     "name": "stdout",
     "output_type": "stream",
     "text": [
      "<class 'pandas.core.frame.DataFrame'>\n",
      "Int64Index: 669959 entries, 0 to 354151\n",
      "Data columns (total 11 columns):\n",
      "trip_id              669959 non-null int64\n",
      "duration             669959 non-null int64\n",
      "start_date           669959 non-null object\n",
      "start_station        669959 non-null object\n",
      "start_terminal       669959 non-null int64\n",
      "end_date             669959 non-null object\n",
      "end_station          669959 non-null object\n",
      "end_terminal         669959 non-null int64\n",
      "bike_#               669959 non-null int64\n",
      "subscription_type    669959 non-null object\n",
      "zip_code             663340 non-null object\n",
      "dtypes: int64(5), object(6)\n",
      "memory usage: 61.3+ MB\n"
     ]
    }
   ],
   "source": [
    "df_trip.info()"
   ]
  },
  {
   "cell_type": "code",
   "execution_count": 114,
   "metadata": {},
   "outputs": [
    {
     "data": {
      "text/plain": [
       "bike_#\n",
       "9      3640.358566\n",
       "10     2223.040323\n",
       "11     1769.724719\n",
       "12     3906.762887\n",
       "13     4110.489177\n",
       "14     1781.758929\n",
       "15     4306.471503\n",
       "16     1059.207143\n",
       "17     1806.404255\n",
       "18     2058.078189\n",
       "19     1949.569892\n",
       "20     1005.461832\n",
       "21     1224.398268\n",
       "22     3822.779592\n",
       "23     1715.889796\n",
       "24     1621.729282\n",
       "25     1624.810036\n",
       "26     1844.250000\n",
       "27     1505.342007\n",
       "28     1283.097378\n",
       "29     1007.094849\n",
       "30     1642.949541\n",
       "31     1182.339130\n",
       "32     2663.719048\n",
       "33     1015.245850\n",
       "34      480.870968\n",
       "35     1703.098765\n",
       "36     1959.326316\n",
       "37     1522.182203\n",
       "38     2108.450292\n",
       "          ...     \n",
       "692    5236.608466\n",
       "693    4493.578378\n",
       "694    2085.969163\n",
       "695    2991.114754\n",
       "696    1077.993007\n",
       "697     982.166667\n",
       "698     618.067194\n",
       "699    1022.170543\n",
       "700    2116.356021\n",
       "701    1331.185606\n",
       "702    1909.943182\n",
       "703    2470.085227\n",
       "704    2288.527919\n",
       "705    1028.890688\n",
       "706    1040.191571\n",
       "707    3090.858974\n",
       "708     855.618834\n",
       "709     915.246537\n",
       "710    1597.512027\n",
       "711    2476.395722\n",
       "712    2824.433333\n",
       "713    2576.614504\n",
       "714    2800.310734\n",
       "715     951.811847\n",
       "716    1168.562814\n",
       "717     959.085366\n",
       "740     752.715596\n",
       "876     550.666667\n",
       "877     796.859351\n",
       "878     933.370396\n",
       "Name: duration, Length: 700, dtype: float64"
      ]
     },
     "execution_count": 114,
     "metadata": {},
     "output_type": "execute_result"
    }
   ],
   "source": [
    "df_trip.groupby('bike_#')['duration'].mean()\n",
    "# df_trip.head()"
   ]
  },
  {
   "cell_type": "code",
   "execution_count": null,
   "metadata": {},
   "outputs": [],
   "source": []
  }
 ],
 "metadata": {
  "kernelspec": {
   "display_name": "Python 3",
   "language": "python",
   "name": "python3"
  },
  "language_info": {
   "codemirror_mode": {
    "name": "ipython",
    "version": 3
   },
   "file_extension": ".py",
   "mimetype": "text/x-python",
   "name": "python",
   "nbconvert_exporter": "python",
   "pygments_lexer": "ipython3",
   "version": "3.6.4"
  }
 },
 "nbformat": 4,
 "nbformat_minor": 2
}
