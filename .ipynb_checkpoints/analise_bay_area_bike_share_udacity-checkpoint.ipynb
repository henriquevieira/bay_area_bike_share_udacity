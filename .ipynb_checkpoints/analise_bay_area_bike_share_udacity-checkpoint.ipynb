{
 "cells": [
  {
   "cell_type": "code",
   "execution_count": 1,
   "metadata": {},
   "outputs": [],
   "source": [
    "# Analysis\n",
    "\n",
    "# 201309_trip_data.csv\n",
    "# 201309_trip_summary.csv\n",
    "# 201402_README.txt\n",
    "# 201402_station_data.csv\n",
    "# 201402_trip_data.csv\n",
    "# 201402_weather_data.csv\n",
    "# 201408_README.txt\n",
    "# 201408_station_data.csv\n",
    "# 201408_trip_data.csv\n",
    "# 201408_weather_data.csv\n",
    "# 201508_README.txt\n",
    "# 201508_station_data.csv\n",
    "# 201508_trip_data.csv\n",
    "# 201508_weather_data.csv"
   ]
  },
  {
   "cell_type": "code",
   "execution_count": 2,
   "metadata": {},
   "outputs": [],
   "source": [
    "# IMPORT PACKAGES\n",
    "import pandas as pd"
   ]
  },
  {
   "cell_type": "code",
   "execution_count": 3,
   "metadata": {},
   "outputs": [],
   "source": [
    "# READ DATA\n",
    "df_201402_station = pd.read_csv('ndfdsi-bikeshareanalysis/201402_station_data.csv')\n",
    "df_201402_trip = pd.read_csv('ndfdsi-bikeshareanalysis/201402_trip_data.csv')\n",
    "df_201402_weather = pd.read_csv('ndfdsi-bikeshareanalysis/201402_weather_data.csv')\n",
    "\n",
    "df_201408_station = pd.read_csv('ndfdsi-bikeshareanalysis/201408_station_data.csv')\n",
    "df_201408_trip = pd.read_csv('ndfdsi-bikeshareanalysis/201408_trip_data.csv')\n",
    "df_201408_weather = pd.read_csv('ndfdsi-bikeshareanalysis/201408_weather_data.csv')\n",
    "\n",
    "df_201508_station = pd.read_csv('ndfdsi-bikeshareanalysis/201508_station_data.csv')\n",
    "df_201508_trip = pd.read_csv('ndfdsi-bikeshareanalysis/201508_trip_data.csv')\n",
    "df_201508_weather = pd.read_csv('ndfdsi-bikeshareanalysis/201508_weather_data.csv')"
   ]
  },
  {
   "cell_type": "code",
   "execution_count": 4,
   "metadata": {},
   "outputs": [
    {
     "name": "stdout",
     "output_type": "stream",
     "text": [
      "(69, 7)\n",
      "(144015, 11)\n",
      "(920, 24)\n"
     ]
    }
   ],
   "source": [
    "# CHECK d201402 DATA SIZE\n",
    "print(df_201402_station.shape)\n",
    "print(df_201402_trip.shape)\n",
    "print(df_201402_weather.shape)"
   ]
  },
  {
   "cell_type": "code",
   "execution_count": 5,
   "metadata": {},
   "outputs": [
    {
     "name": "stdout",
     "output_type": "stream",
     "text": [
      "(70, 7)\n",
      "(171792, 11)\n",
      "(920, 24)\n"
     ]
    }
   ],
   "source": [
    "# CHECK d201408 DATA SIZE\n",
    "print(df_201408_station.shape)\n",
    "print(df_201408_trip.shape)\n",
    "print(df_201408_weather.shape)"
   ]
  },
  {
   "cell_type": "code",
   "execution_count": 6,
   "metadata": {},
   "outputs": [
    {
     "name": "stdout",
     "output_type": "stream",
     "text": [
      "(70, 7)\n",
      "(354152, 11)\n",
      "(1825, 24)\n"
     ]
    }
   ],
   "source": [
    "# CHECK d201508 DATA SIZE\n",
    "print(df_201508_station.shape)\n",
    "print(df_201508_trip.shape)\n",
    "print(df_201508_weather.shape)"
   ]
  },
  {
   "cell_type": "code",
   "execution_count": 7,
   "metadata": {},
   "outputs": [],
   "source": [
    "# CHANGE COLUMN\n",
    "df_201402_station.rename(columns=lambda x: x.strip().lower().replace(\" \", \"_\"), inplace=True)\n",
    "df_201402_trip.rename(columns=lambda x: x.strip().lower().replace(\" \", \"_\"), inplace=True)\n",
    "df_201402_weather.rename(columns=lambda x: x.strip().lower().replace(\" \", \"_\"), inplace=True)\n",
    "df_201408_station.rename(columns=lambda x: x.strip().lower().replace(\" \", \"_\"), inplace=True)\n",
    "df_201408_trip.rename(columns=lambda x: x.strip().lower().replace(\" \", \"_\"), inplace=True)\n",
    "df_201408_weather.rename(columns=lambda x: x.strip().lower().replace(\" \", \"_\"), inplace=True)\n",
    "df_201508_station.rename(columns=lambda x: x.strip().lower().replace(\" \", \"_\"), inplace=True)\n",
    "df_201508_trip.rename(columns=lambda x: x.strip().lower().replace(\" \", \"_\"), inplace=True)\n",
    "df_201508_weather.rename(columns=lambda x: x.strip().lower().replace(\" \", \"_\"), inplace=True)"
   ]
  },
  {
   "cell_type": "code",
   "execution_count": 18,
   "metadata": {},
   "outputs": [
    {
     "data": {
      "text/plain": [
       "(209, 7)"
      ]
     },
     "execution_count": 18,
     "metadata": {},
     "output_type": "execute_result"
    }
   ],
   "source": [
    "# MERGE STATION DATA\n",
    "df_stations_data = [df_201402_station, df_201408_station, df_201508_station]\n",
    "df_station = pd.concat(df_stations_data)\n",
    "df_station.shape"
   ]
  },
  {
   "cell_type": "code",
   "execution_count": 19,
   "metadata": {},
   "outputs": [
    {
     "data": {
      "text/plain": [
       "133"
      ]
     },
     "execution_count": 19,
     "metadata": {},
     "output_type": "execute_result"
    }
   ],
   "source": [
    "# TOTAL DE DUPLICATAS\n",
    "sum(df_station.duplicated())"
   ]
  },
  {
   "cell_type": "code",
   "execution_count": 20,
   "metadata": {},
   "outputs": [],
   "source": [
    "# REMOVENDO AS DUPLICATAS\n",
    "df_station.drop_duplicates(inplace=True)"
   ]
  },
  {
   "cell_type": "code",
   "execution_count": 21,
   "metadata": {},
   "outputs": [
    {
     "data": {
      "text/plain": [
       "(76, 7)"
      ]
     },
     "execution_count": 21,
     "metadata": {},
     "output_type": "execute_result"
    }
   ],
   "source": [
    "df_station.shape"
   ]
  },
  {
   "cell_type": "code",
   "execution_count": 9,
   "metadata": {},
   "outputs": [
    {
     "data": {
      "text/html": [
       "<div>\n",
       "<style scoped>\n",
       "    .dataframe tbody tr th:only-of-type {\n",
       "        vertical-align: middle;\n",
       "    }\n",
       "\n",
       "    .dataframe tbody tr th {\n",
       "        vertical-align: top;\n",
       "    }\n",
       "\n",
       "    .dataframe thead th {\n",
       "        text-align: right;\n",
       "    }\n",
       "</style>\n",
       "<table border=\"1\" class=\"dataframe\">\n",
       "  <thead>\n",
       "    <tr style=\"text-align: right;\">\n",
       "      <th></th>\n",
       "      <th>bike_#</th>\n",
       "      <th>duration</th>\n",
       "      <th>end_date</th>\n",
       "      <th>end_station</th>\n",
       "      <th>end_terminal</th>\n",
       "      <th>start_date</th>\n",
       "      <th>start_station</th>\n",
       "      <th>start_terminal</th>\n",
       "      <th>subscriber_type</th>\n",
       "      <th>subscription_type</th>\n",
       "      <th>trip_id</th>\n",
       "      <th>zip_code</th>\n",
       "    </tr>\n",
       "  </thead>\n",
       "  <tbody>\n",
       "    <tr>\n",
       "      <th>0</th>\n",
       "      <td>520</td>\n",
       "      <td>63</td>\n",
       "      <td>8/29/2013 14:14</td>\n",
       "      <td>South Van Ness at Market</td>\n",
       "      <td>66</td>\n",
       "      <td>8/29/2013 14:13</td>\n",
       "      <td>South Van Ness at Market</td>\n",
       "      <td>66</td>\n",
       "      <td>NaN</td>\n",
       "      <td>Subscriber</td>\n",
       "      <td>4576</td>\n",
       "      <td>94127</td>\n",
       "    </tr>\n",
       "    <tr>\n",
       "      <th>1</th>\n",
       "      <td>661</td>\n",
       "      <td>70</td>\n",
       "      <td>8/29/2013 14:43</td>\n",
       "      <td>San Jose City Hall</td>\n",
       "      <td>10</td>\n",
       "      <td>8/29/2013 14:42</td>\n",
       "      <td>San Jose City Hall</td>\n",
       "      <td>10</td>\n",
       "      <td>NaN</td>\n",
       "      <td>Subscriber</td>\n",
       "      <td>4607</td>\n",
       "      <td>95138</td>\n",
       "    </tr>\n",
       "    <tr>\n",
       "      <th>2</th>\n",
       "      <td>48</td>\n",
       "      <td>71</td>\n",
       "      <td>8/29/2013 10:17</td>\n",
       "      <td>Mountain View City Hall</td>\n",
       "      <td>27</td>\n",
       "      <td>8/29/2013 10:16</td>\n",
       "      <td>Mountain View City Hall</td>\n",
       "      <td>27</td>\n",
       "      <td>NaN</td>\n",
       "      <td>Subscriber</td>\n",
       "      <td>4130</td>\n",
       "      <td>97214</td>\n",
       "    </tr>\n",
       "    <tr>\n",
       "      <th>3</th>\n",
       "      <td>26</td>\n",
       "      <td>77</td>\n",
       "      <td>8/29/2013 11:30</td>\n",
       "      <td>San Jose City Hall</td>\n",
       "      <td>10</td>\n",
       "      <td>8/29/2013 11:29</td>\n",
       "      <td>San Jose City Hall</td>\n",
       "      <td>10</td>\n",
       "      <td>NaN</td>\n",
       "      <td>Subscriber</td>\n",
       "      <td>4251</td>\n",
       "      <td>95060</td>\n",
       "    </tr>\n",
       "    <tr>\n",
       "      <th>4</th>\n",
       "      <td>319</td>\n",
       "      <td>83</td>\n",
       "      <td>8/29/2013 12:04</td>\n",
       "      <td>Market at 10th</td>\n",
       "      <td>67</td>\n",
       "      <td>8/29/2013 12:02</td>\n",
       "      <td>South Van Ness at Market</td>\n",
       "      <td>66</td>\n",
       "      <td>NaN</td>\n",
       "      <td>Subscriber</td>\n",
       "      <td>4299</td>\n",
       "      <td>94103</td>\n",
       "    </tr>\n",
       "  </tbody>\n",
       "</table>\n",
       "</div>"
      ],
      "text/plain": [
       "   bike_#  duration         end_date               end_station  end_terminal  \\\n",
       "0     520        63  8/29/2013 14:14  South Van Ness at Market            66   \n",
       "1     661        70  8/29/2013 14:43        San Jose City Hall            10   \n",
       "2      48        71  8/29/2013 10:17   Mountain View City Hall            27   \n",
       "3      26        77  8/29/2013 11:30        San Jose City Hall            10   \n",
       "4     319        83  8/29/2013 12:04            Market at 10th            67   \n",
       "\n",
       "        start_date             start_station  start_terminal subscriber_type  \\\n",
       "0  8/29/2013 14:13  South Van Ness at Market              66             NaN   \n",
       "1  8/29/2013 14:42        San Jose City Hall              10             NaN   \n",
       "2  8/29/2013 10:16   Mountain View City Hall              27             NaN   \n",
       "3  8/29/2013 11:29        San Jose City Hall              10             NaN   \n",
       "4  8/29/2013 12:02  South Van Ness at Market              66             NaN   \n",
       "\n",
       "  subscription_type  trip_id zip_code  \n",
       "0        Subscriber     4576    94127  \n",
       "1        Subscriber     4607    95138  \n",
       "2        Subscriber     4130    97214  \n",
       "3        Subscriber     4251    95060  \n",
       "4        Subscriber     4299    94103  "
      ]
     },
     "execution_count": 9,
     "metadata": {},
     "output_type": "execute_result"
    }
   ],
   "source": [
    "# MERGE TRIP DATA\n",
    "df_trips_data = [df_201402_trip, df_201408_trip, df_201508_trip]\n",
    "df_trip = pd.concat(df_trips_data)\n",
    "df_trip.head()"
   ]
  },
  {
   "cell_type": "code",
   "execution_count": 10,
   "metadata": {},
   "outputs": [
    {
     "data": {
      "text/plain": [
       "(3665, 42)"
      ]
     },
     "execution_count": 10,
     "metadata": {},
     "output_type": "execute_result"
    }
   ],
   "source": [
    "# MERGE WEATHER DATA\n",
    "df_weathers_data = [df_201402_weather, df_201408_weather, df_201508_weather]\n",
    "df_weather = pd.concat(df_weathers_data)\n",
    "df_weather.shape"
   ]
  },
  {
   "cell_type": "code",
   "execution_count": 23,
   "metadata": {},
   "outputs": [
    {
     "data": {
      "text/plain": [
       "0"
      ]
     },
     "execution_count": 23,
     "metadata": {},
     "output_type": "execute_result"
    }
   ],
   "source": [
    "sum(df_weather.duplicated())"
   ]
  },
  {
   "cell_type": "code",
   "execution_count": null,
   "metadata": {},
   "outputs": [],
   "source": []
  },
  {
   "cell_type": "code",
   "execution_count": null,
   "metadata": {},
   "outputs": [],
   "source": []
  },
  {
   "cell_type": "code",
   "execution_count": null,
   "metadata": {},
   "outputs": [],
   "source": []
  }
 ],
 "metadata": {
  "kernelspec": {
   "display_name": "Python 3",
   "language": "python",
   "name": "python3"
  },
  "language_info": {
   "codemirror_mode": {
    "name": "ipython",
    "version": 3
   },
   "file_extension": ".py",
   "mimetype": "text/x-python",
   "name": "python",
   "nbconvert_exporter": "python",
   "pygments_lexer": "ipython3",
   "version": "3.6.4"
  }
 },
 "nbformat": 4,
 "nbformat_minor": 2
}
