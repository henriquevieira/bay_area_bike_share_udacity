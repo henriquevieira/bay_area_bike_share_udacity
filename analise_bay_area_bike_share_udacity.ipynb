{
 "cells": [
  {
   "cell_type": "code",
   "execution_count": 26,
   "metadata": {},
   "outputs": [],
   "source": [
    "# Analysis\n",
    "\n",
    "# 201309_trip_data.csv\n",
    "# 201309_trip_summary.csv\n",
    "# 201402_README.txt\n",
    "# 201402_station_data.csv\n",
    "# 201402_trip_data.csv\n",
    "# 201402_weather_data.csv\n",
    "# 201408_README.txt\n",
    "# 201408_station_data.csv\n",
    "# 201408_trip_data.csv\n",
    "# 201408_weather_data.csv\n",
    "# 201508_README.txt\n",
    "# 201508_station_data.csv\n",
    "# 201508_trip_data.csv\n",
    "# 201508_weather_data.csv"
   ]
  },
  {
   "cell_type": "code",
   "execution_count": 27,
   "metadata": {},
   "outputs": [],
   "source": [
    "# IMPORT PACKAGES\n",
    "import pandas as pd"
   ]
  },
  {
   "cell_type": "code",
   "execution_count": 28,
   "metadata": {},
   "outputs": [],
   "source": [
    "# READ DATA\n",
    "d201402_station_data = pd.read_csv('ndfdsi-bikeshareanalysis/201402_station_data.csv')\n",
    "d201402_trip_data = pd.read_csv('ndfdsi-bikeshareanalysis/201402_trip_data.csv')\n",
    "d201402_weather_data = pd.read_csv('ndfdsi-bikeshareanalysis/201402_weather_data.csv')\n",
    "d201408_station_data = pd.read_csv('ndfdsi-bikeshareanalysis/201408_station_data.csv')\n",
    "d201408_trip_data = pd.read_csv('ndfdsi-bikeshareanalysis/201408_trip_data.csv')\n",
    "d201408_weather_data = pd.read_csv('ndfdsi-bikeshareanalysis/201408_weather_data.csv')\n",
    "d201508_station_data = pd.read_csv('ndfdsi-bikeshareanalysis/201508_station_data.csv')\n",
    "d201508_trip_data = pd.read_csv('ndfdsi-bikeshareanalysis/201508_trip_data.csv')\n",
    "d201508_weather_data = pd.read_csv('ndfdsi-bikeshareanalysis/201508_weather_data.csv')"
   ]
  },
  {
   "cell_type": "code",
   "execution_count": 29,
   "metadata": {},
   "outputs": [
    {
     "name": "stdout",
     "output_type": "stream",
     "text": [
      "(69, 7)\n",
      "(144015, 11)\n",
      "(920, 24)\n"
     ]
    }
   ],
   "source": [
    "# CHECK d201402 DATA SIZE\n",
    "print(d201402_station_data.shape)\n",
    "print(d201402_trip_data.shape)\n",
    "print(d201402_weather_data.shape)"
   ]
  },
  {
   "cell_type": "code",
   "execution_count": 30,
   "metadata": {},
   "outputs": [
    {
     "name": "stdout",
     "output_type": "stream",
     "text": [
      "(70, 7)\n",
      "(171792, 11)\n",
      "(920, 24)\n"
     ]
    }
   ],
   "source": [
    "# CHECK d201408 DATA SIZE\n",
    "print(d201408_station_data.shape)\n",
    "print(d201408_trip_data.shape)\n",
    "print(d201408_weather_data.shape)"
   ]
  },
  {
   "cell_type": "code",
   "execution_count": 31,
   "metadata": {},
   "outputs": [
    {
     "name": "stdout",
     "output_type": "stream",
     "text": [
      "(70, 7)\n",
      "(354152, 11)\n",
      "(1825, 24)\n"
     ]
    }
   ],
   "source": [
    "# CHECK d201508 DATA SIZE\n",
    "print(d201508_station_data.shape)\n",
    "print(d201508_trip_data.shape)\n",
    "print(d201508_weather_data.shape)"
   ]
  }
 ],
 "metadata": {
  "kernelspec": {
   "display_name": "Python 3",
   "language": "python",
   "name": "python3"
  },
  "language_info": {
   "codemirror_mode": {
    "name": "ipython",
    "version": 3
   },
   "file_extension": ".py",
   "mimetype": "text/x-python",
   "name": "python",
   "nbconvert_exporter": "python",
   "pygments_lexer": "ipython3",
   "version": "3.6.4"
  }
 },
 "nbformat": 4,
 "nbformat_minor": 2
}
